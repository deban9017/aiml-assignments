{
 "cells": [
  {
   "cell_type": "code",
   "execution_count": 53,
   "metadata": {},
   "outputs": [],
   "source": [
    "import sys\n",
    "import os\n",
    "import numpy as np\n",
    "import matplotlib.pyplot as plt\n",
    "import pandas as pd\n",
    "\n",
    "# Add the 'oracle' directory to the Python path\n",
    "sys.path.append(os.path.join(os.getcwd(), 'oracle'))\n",
    "import oracle"
   ]
  },
  {
   "cell_type": "code",
   "execution_count": 54,
   "metadata": {},
   "outputs": [
    {
     "name": "stdout",
     "output_type": "stream",
     "text": [
      "('Wearing_Lipstick', 'Big_Lips')\n"
     ]
    }
   ],
   "source": [
    "res = oracle.q1_fish_train_test_data(23607)\n",
    "print(res[0])"
   ]
  },
  {
   "cell_type": "code",
   "execution_count": 55,
   "metadata": {},
   "outputs": [],
   "source": [
    "attributes = res[0]\n",
    "train_img = np.array(res[1])\n",
    "train_labels = np.array(res[2])\n",
    "test_img = np.array(res[3])\n",
    "test_labels = np.array(res[4])"
   ]
  },
  {
   "cell_type": "code",
   "execution_count": 56,
   "metadata": {},
   "outputs": [],
   "source": [
    "# flatten the images\n",
    "train_img = train_img.reshape(train_img.shape[0], -1)\n",
    "test_img = test_img.reshape(test_img.shape[0], -1)"
   ]
  },
  {
   "cell_type": "code",
   "execution_count": 57,
   "metadata": {},
   "outputs": [],
   "source": [
    "train_img_0 = train_img[train_labels == 0]\n",
    "train_img_1 = train_img[train_labels == 1]\n",
    "train_img_2 = train_img[train_labels == 2]\n",
    "train_img_3 = train_img[train_labels == 3]\n",
    "\n",
    "test_img_0 = test_img[test_labels == 0]\n",
    "test_img_1 = test_img[test_labels == 1]\n",
    "test_img_2 = test_img[test_labels == 2]\n",
    "test_img_3 = test_img[test_labels == 3]"
   ]
  },
  {
   "cell_type": "code",
   "execution_count": 58,
   "metadata": {},
   "outputs": [],
   "source": [
    "c = 4 # number of classes\n",
    "\n",
    "def fld_w(train_img, n):\n",
    "    W_T = []\n",
    "\n",
    "    train_img_0_n = train_img[0][:n]\n",
    "    train_img_1_n = train_img[1][:n]\n",
    "    train_img_2_n = train_img[2][:n]\n",
    "    train_img_3_n = train_img[3][:n]\n",
    "\n",
    "    m0_n = np.mean(train_img_0_n, axis=0)\n",
    "    m1_n = np.mean(train_img_1_n, axis=0)\n",
    "    m2_n = np.mean(train_img_2_n, axis=0)\n",
    "    m3_n = np.mean(train_img_3_n, axis=0)\n",
    "\n",
    "    # # Calculate scatter matrices using the proper formula: S = ∑ (x - m) (x - m)^T\n",
    "    s0_n = np.cov(train_img_0_n.T)*n\n",
    "    s1_n = np.cov(train_img_1_n.T)*n\n",
    "    s2_n = np.cov(train_img_2_n.T)*n\n",
    "    s3_n = np.cov(train_img_3_n.T)*n\n",
    "\n",
    "    s_W_n = s0_n + s1_n + s2_n + s3_n\n",
    "\n",
    "    means = np.array([m0_n, m1_n, m2_n, m3_n])\n",
    "    m = np.mean(means, axis=0)\n",
    "    s_B_n = np.zeros((train_img_0_n.shape[1], train_img_0_n.shape[1]))\n",
    "    for i in range(c):\n",
    "        diff = (means[i] - m).reshape(-1, 1)\n",
    "        s_B_n += n * np.dot(diff, diff.T)\n",
    "    \n",
    "    eigvals, eigvecs = np.linalg.eig(np.linalg.pinv(s_W_n).dot(s_B_n))\n",
    "    eigvals = eigvals.real\n",
    "    eigvecs = eigvecs.real\n",
    "\n",
    "    idx = eigvals.argsort()[::-1]\n",
    "    eigvals = eigvals[idx]\n",
    "    eigvecs = eigvecs[:, idx]\n",
    "\n",
    "    W_T.append(eigvecs[:, :c-1]) # We take the first c-1 eigenvectors\n",
    "    return W_T"
   ]
  },
  {
   "cell_type": "code",
   "execution_count": 59,
   "metadata": {},
   "outputs": [],
   "source": [
    "def accuracy(test_img, test_labels, w, train_img_n, n):\n",
    "    w = fld_w(train_img_n, n)\n",
    "\n",
    "    train_img_0_proj = train_img_n[0].dot(w[0])\n",
    "    train_img_1_proj = train_img_n[1].dot(w[0])\n",
    "    train_img_2_proj = train_img_n[2].dot(w[0])\n",
    "    train_img_3_proj = train_img_n[3].dot(w[0])\n",
    "\n",
    "    m0_proj = np.mean(train_img_0_proj, axis=0)\n",
    "    m1_proj = np.mean(train_img_1_proj, axis=0)\n",
    "    m2_proj = np.mean(train_img_2_proj, axis=0)\n",
    "    m3_proj = np.mean(train_img_3_proj, axis=0)\n",
    "\n",
    "    cov0_proj = np.cov(train_img_0_proj.T)\n",
    "    cov1_proj = np.cov(train_img_1_proj.T)\n",
    "    cov2_proj = np.cov(train_img_2_proj.T)\n",
    "    cov3_proj = np.cov(train_img_3_proj.T)\n",
    "\n",
    "    false_count = 0\n",
    "    class_pred = []\n",
    "\n",
    "    for x in test_img:\n",
    "        x_proj = x.dot(w[0])\n",
    "        posteriors = [\n",
    "            np.exp(-0.5 * np.dot(np.dot((x_proj - m0_proj), np.linalg.inv(cov0_proj)), (x_proj - m0_proj).T)),\n",
    "            np.exp(-0.5 * np.dot(np.dot((x_proj - m1_proj), np.linalg.inv(cov1_proj)), (x_proj - m1_proj).T)),\n",
    "            np.exp(-0.5 * np.dot(np.dot((x_proj - m2_proj), np.linalg.inv(cov2_proj)), (x_proj - m2_proj).T)),\n",
    "            np.exp(-0.5 * np.dot(np.dot((x_proj - m3_proj), np.linalg.inv(cov3_proj)), (x_proj - m3_proj).T))\n",
    "        ]\n",
    "        class_pred.append(np.argmax(posteriors))\n",
    "\n",
    "    class_pred = np.array(class_pred)\n",
    "    false_count = np.sum(class_pred != test_labels)  \n",
    "\n",
    "\n",
    "    return false_count/len(test_labels)"
   ]
  },
  {
   "cell_type": "code",
   "execution_count": 60,
   "metadata": {},
   "outputs": [
    {
     "name": "stdout",
     "output_type": "stream",
     "text": [
      "0.508 for n = 2500\n",
      "0.46 for n = 3500\n",
      "0.443 for n = 4000\n",
      "0.455 for n = 4500\n",
      "0.441 for n = 5000\n"
     ]
    }
   ],
   "source": [
    "n_all = [2500, 3500, 4000, 4500, 5000]\n",
    "for n in n_all:\n",
    "    #random sample n images from each class\n",
    "    train_0 = train_img_0[np.random.choice(train_img_0.shape[0], n, replace=False)]\n",
    "    train_1 = train_img_1[np.random.choice(train_img_1.shape[0], n, replace=False)]\n",
    "    train_2 = train_img_2[np.random.choice(train_img_2.shape[0], n, replace=False)]\n",
    "    train_3 = train_img_3[np.random.choice(train_img_3.shape[0], n, replace=False)]\n",
    "    train_img_n = [train_0, train_1, train_2, train_3]\n",
    "\n",
    "    print(accuracy(test_img, test_labels, fld_w(train_img_n, n), train_img_n, n), \"for n =\", n)"
   ]
  },
  {
   "cell_type": "code",
   "execution_count": 63,
   "metadata": {},
   "outputs": [
    {
     "data": {
      "image/png": "[encoded data removed]",
      "text/plain": [
       "<Figure size 800x600 with 1 Axes>"
      ]
     },
     "metadata": {},
     "output_type": "display_data"
    }
   ],
   "source": [
    "import matplotlib.pyplot as plt\n",
    "\n",
    "n_values = [200, 500, 1000, 1500, 2000, 2500, 3500, 4000, 4500, 5000]\n",
    "accuracy_values = [27.300, 38.500, 37.900, 45.700, 51.400, 49.200, 54.000, 55.700, 54.500, 55.900]\n",
    "\n",
    "plt.figure(figsize=(8, 6))\n",
    "plt.plot(n_values, accuracy_values, marker='o', linestyle='-')\n",
    "\n",
    "plt.xlabel('n')\n",
    "plt.ylabel('Accuracy (%)')\n",
    "plt.title('Accuracy for different values of n')\n",
    "# plt.grid(True)\n",
    "plt.xticks(n_values) # Show all n values on x-axis for better readability\n",
    "plt.tight_layout()\n",
    "plt.show()"
   ]
  }
 ],
 "metadata": {
  "kernelspec": {
   "display_name": "Python 3",
   "language": "python",
   "name": "python3"
  },
  "language_info": {
   "codemirror_mode": {
    "name": "ipython",
    "version": 3
   },
   "file_extension": ".py",
   "mimetype": "text/x-python",
   "name": "python",
   "nbconvert_exporter": "python",
   "pygments_lexer": "ipython3",
   "version": "3.12.8"
  }
 },
 "nbformat": 4,
 "nbformat_minor": 2
}
