{
 "cells": [
  {
   "cell_type": "code",
   "execution_count": 2,
   "metadata": {},
   "outputs": [],
   "source": [
    "import sys\n",
    "import os\n",
    "\n",
    "# Add the 'oracle' directory to the Python path\n",
    "sys.path.append(os.path.join(os.getcwd(), 'oracle'))\n",
    "import oracle"
   ]
  },
  {
   "cell_type": "code",
   "execution_count": 3,
   "metadata": {},
   "outputs": [
    {
     "name": "stdout",
     "output_type": "stream",
     "text": [
      "('Wearing_Lipstick', 'Big_Lips')\n"
     ]
    }
   ],
   "source": [
    "res = oracle.q1_fish_train_test_data(23607)\n",
    "print(res[0])"
   ]
  },
  {
   "cell_type": "code",
   "execution_count": 4,
   "metadata": {},
   "outputs": [],
   "source": [
    "attributes = res[0]\n",
    "train_img = res[1]\n",
    "train_labels = res[2]\n",
    "test_img = res[3]\n",
    "test_labels = res[4]"
   ]
  },
  {
   "cell_type": "code",
   "execution_count": 5,
   "metadata": {},
   "outputs": [],
   "source": [
    "import numpy as np\n",
    "import pandas as pd\n",
    "import matplotlib.pyplot as plt"
   ]
  },
  {
   "cell_type": "code",
   "execution_count": 6,
   "metadata": {},
   "outputs": [],
   "source": [
    "train_img = np.array(train_img)\n",
    "train_labels = np.array(train_labels)\n",
    "test_img = np.array(test_img)\n",
    "test_labels = np.array(test_labels)"
   ]
  },
  {
   "cell_type": "code",
   "execution_count": 7,
   "metadata": {},
   "outputs": [],
   "source": [
    "# We segregate the data into 4 classes\n",
    "train_img_0 = train_img[train_labels == 0]\n",
    "train_img_1 = train_img[train_labels == 1]\n",
    "train_img_2 = train_img[train_labels == 2]\n",
    "train_img_3 = train_img[train_labels == 3]\n",
    "\n",
    "test_img_0 = test_img[test_labels == 0]\n",
    "test_img_1 = test_img[test_labels == 1]\n",
    "test_img_2 = test_img[test_labels == 2]\n",
    "test_img_3 = test_img[test_labels == 3]"
   ]
  },
  {
   "cell_type": "code",
   "execution_count": 8,
   "metadata": {},
   "outputs": [],
   "source": [
    "# we flatten the images\n",
    "train_img_0 = train_img_0.reshape(train_img_0.shape[0], -1)\n",
    "train_img_1 = train_img_1.reshape(train_img_1.shape[0], -1)\n",
    "train_img_2 = train_img_2.reshape(train_img_2.shape[0], -1)\n",
    "train_img_3 = train_img_3.reshape(train_img_3.shape[0], -1)\n",
    "\n",
    "test_img_0 = test_img_0.reshape(test_img_0.shape[0], -1)\n",
    "test_img_1 = test_img_1.reshape(test_img_1.shape[0], -1)\n",
    "test_img_2 = test_img_2.reshape(test_img_2.shape[0], -1)\n",
    "test_img_3 = test_img_3.reshape(test_img_3.shape[0], -1)"
   ]
  },
  {
   "cell_type": "code",
   "execution_count": 9,
   "metadata": {},
   "outputs": [],
   "source": [
    "# We calculate the mean of each class\n",
    "m0 = np.mean(train_img_0, axis=0)\n",
    "m1 = np.mean(train_img_1, axis=0)\n",
    "m2 = np.mean(train_img_2, axis=0)\n",
    "m3 = np.mean(train_img_3, axis=0)\n",
    "\n",
    "# We calculate the covariance matrix of each class\n",
    "s1 = np.cov(train_img_0.T)\n",
    "s2 = np.cov(train_img_1.T)\n",
    "s3 = np.cov(train_img_2.T)\n",
    "s4 = np.cov(train_img_3.T)"
   ]
  },
  {
   "cell_type": "markdown",
   "metadata": {},
   "source": [
    "('Wearing_Lipstick', 'Big_Lips') are our attributes.\n",
    "So, our classes 0,1,2,3 are:\n",
    "<br>\n",
    "0: Not wearing lipstick, not having big lips\n",
    "<br>\n",
    "1: Not wearing lipstick, having big lips\n",
    "<br>\n",
    "2: Wearing lipstick, not having big lips\n",
    "<br>\n",
    "3: Wearing lipstick, having big lips\n",
    "<br>\n",
    "So we segregate the data into 2 pairs of binary classes.\n",
    "<br>\n",
    "So, new classes are:\n",
    "<br>\n",
    "a: big lips no/yes : 0&2/1&3 | a1: 0&2, a2: 1&3\n",
    "<br>\n",
    "b: wearing lipstick no/yes : 0&1/2&3 | b1: 0&1, b2: 2&3\n",
    "<br> "
   ]
  },
  {
   "cell_type": "markdown",
   "metadata": {},
   "source": [
    "### Attribute 'a': Big Lips classification\n"
   ]
  },
  {
   "cell_type": "code",
   "execution_count": 15,
   "metadata": {},
   "outputs": [
    {
     "name": "stdout",
     "output_type": "stream",
     "text": [
      "0.34417260521691295\n",
      "-0.3441725267878981\n"
     ]
    }
   ],
   "source": [
    "train_yes = np.concatenate((train_img_1, train_img_3), axis=0)\n",
    "train_no = np.concatenate((train_img_0, train_img_2), axis=0)\n",
    "\n",
    "m_yes = np.mean(train_yes, axis=0)\n",
    "m_no = np.mean(train_no, axis=0)\n",
    "\n",
    "s_yes = np.cov(train_yes.T)\n",
    "s_no = np.cov(train_no.T)\n",
    "\n",
    "s_W = s_yes + s_no\n",
    "s_W_inv = np.linalg.inv(s_W)\n",
    "\n",
    "w = np.dot(s_W_inv, (m_yes - m_no))\n",
    "b = -0.5 * np.dot(w.T, (m_yes + m_no))\n",
    "\n",
    "w_big_lips = w\n",
    "b_big_lips = b\n",
    "\n",
    "print(np.dot(w_big_lips.T, m_yes) + b_big_lips)\n",
    "print(np.dot(w_big_lips.T, m_no) + b_big_lips)"
   ]
  },
  {
   "cell_type": "code",
   "execution_count": 11,
   "metadata": {},
   "outputs": [
    {
     "name": "stdout",
     "output_type": "stream",
     "text": [
      "0.607\n"
     ]
    }
   ],
   "source": [
    "# Flatten the test images\n",
    "test_img_flattened = test_img.reshape(test_img.shape[0], -1)\n",
    "\n",
    "predicted_labels = np.zeros(test_img_flattened.shape[0])\n",
    "# We calculate the accuracy of the model\n",
    "for i in range(test_img_flattened.shape[0]):\n",
    "    if np.dot(w.T, test_img_flattened[i]) + b > 0:\n",
    "        predicted_labels[i] = 1\n",
    "    else:\n",
    "        predicted_labels[i] = 0\n",
    "\n",
    "correct = 0\n",
    "for i in range(test_img_flattened.shape[0]):\n",
    "    if predicted_labels[i] == 1 and (test_labels[i] == 1 or test_labels[i] == 3):\n",
    "        correct += 1\n",
    "    elif predicted_labels[i] == 0 and (test_labels[i] == 0 or test_labels[i] == 2):\n",
    "        correct += 1\n",
    "accuracy = correct / test_img_flattened.shape[0]\n",
    "big_lips_prediction = predicted_labels\n",
    "print(accuracy)\n",
    "\n"
   ]
  },
  {
   "cell_type": "markdown",
   "metadata": {},
   "source": [
    "### Attribute 'b': Wearing Lipstick classification"
   ]
  },
  {
   "cell_type": "code",
   "execution_count": null,
   "metadata": {},
   "outputs": [
    {
     "name": "stdout",
     "output_type": "stream",
     "text": [
      "2.4104791214123003\n",
      "-2.410480251311691\n"
     ]
    },
    {
     "ename": "",
     "evalue": "",
     "output_type": "error",
     "traceback": [
      "\u001b[1;31mThe Kernel crashed while executing code in the current cell or a previous cell. \n",
      "\u001b[1;31mPlease review the code in the cell(s) to identify a possible cause of the failure. \n",
      "\u001b[1;31mClick <a href='https://aka.ms/vscodeJupyterKernelCrash'>here</a> for more info. \n",
      "\u001b[1;31mView Jupyter <a href='command:jupyter.viewOutput'>log</a> for further details."
     ]
    }
   ],
   "source": [
    "train_no = np.concatenate((train_img_0, train_img_1), axis=0)\n",
    "train_yes = np.concatenate((train_img_2, train_img_3), axis=0)\n",
    "\n",
    "m_yes = np.mean(train_yes, axis=0)\n",
    "m_no = np.mean(train_no, axis=0)\n",
    "\n",
    "s_yes = np.cov(train_yes.T)\n",
    "s_no = np.cov(train_no.T)\n",
    "\n",
    "s_W = s_yes + s_no\n",
    "s_W_inv = np.linalg.inv(s_W)\n",
    "\n",
    "w = np.dot(s_W_inv, (m_yes - m_no))\n",
    "b = -0.5 * np.dot(w.T, (m_yes + m_no))\n",
    "\n",
    "w_lipstick = w\n",
    "b_lipstick = b\n",
    "\n",
    "print(np.dot(w_lipstick.T, m_yes) + b_lipstick)\n",
    "print(np.dot(w_lipstick.T, m_no) + b_lipstick)"
   ]
  },
  {
   "cell_type": "code",
   "execution_count": 13,
   "metadata": {},
   "outputs": [
    {
     "name": "stdout",
     "output_type": "stream",
     "text": [
      "0.891\n"
     ]
    }
   ],
   "source": [
    "# Flatten the test images\n",
    "test_img_flattened = test_img.reshape(test_img.shape[0], -1)\n",
    "\n",
    "predicted_labels = np.zeros(test_img_flattened.shape[0])\n",
    "# We calculate the accuracy of the model\n",
    "for i in range(test_img_flattened.shape[0]):\n",
    "    if np.dot(w.T, test_img_flattened[i]) + b > 0:\n",
    "        predicted_labels[i] = 1\n",
    "    else:\n",
    "        predicted_labels[i] = 0\n",
    "\n",
    "correct = 0\n",
    "for i in range(test_img_flattened.shape[0]):\n",
    "    if predicted_labels[i] == 1 and (test_labels[i] == 2 or test_labels[i] == 3):\n",
    "        correct += 1\n",
    "    elif predicted_labels[i] == 0 and (test_labels[i] == 0 or test_labels[i] == 1):\n",
    "        correct += 1\n",
    "accuracy = correct / test_img_flattened.shape[0]\n",
    "lipstick_prediction = predicted_labels\n",
    "print(accuracy)\n"
   ]
  },
  {
   "cell_type": "code",
   "execution_count": 14,
   "metadata": {},
   "outputs": [
    {
     "name": "stdout",
     "output_type": "stream",
     "text": [
      "0.546\n"
     ]
    }
   ],
   "source": [
    "i = 0\n",
    "final_predictions = []\n",
    "while i < test_img.shape[0]:\n",
    "    # not wearing lipstick:\n",
    "    if lipstick_prediction[i] == 0:\n",
    "        # not having big lips\n",
    "        if big_lips_prediction[i] == 0:\n",
    "            final_predictions.append(0)\n",
    "        # having big lips\n",
    "        else:\n",
    "            final_predictions.append(1)\n",
    "    # wearing lipstick:\n",
    "    else:\n",
    "        # not having big lips\n",
    "        if big_lips_prediction[i] == 0:\n",
    "            final_predictions.append(2)\n",
    "        # having big lips\n",
    "        else:\n",
    "            final_predictions.append(3)\n",
    "    i += 1\n",
    "\n",
    "correct = 0\n",
    "for i in range(test_img_flattened.shape[0]):\n",
    "    if final_predictions[i] == test_labels[i]:\n",
    "        correct += 1\n",
    "accuracy = correct / test_img_flattened.shape[0]\n",
    "print(accuracy)\n"
   ]
  }
 ],
 "metadata": {
  "kernelspec": {
   "display_name": "Python 3",
   "language": "python",
   "name": "python3"
  },
  "language_info": {
   "codemirror_mode": {
    "name": "ipython",
    "version": 3
   },
   "file_extension": ".py",
   "mimetype": "text/x-python",
   "name": "python",
   "nbconvert_exporter": "python",
   "pygments_lexer": "ipython3",
   "version": "3.12.8"
  }
 },
 "nbformat": 4,
 "nbformat_minor": 2
}
