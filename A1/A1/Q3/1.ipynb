{
 "cells": [
  {
   "cell_type": "code",
   "execution_count": 140,
   "metadata": {},
   "outputs": [],
   "source": [
    "import sys\n",
    "import os\n",
    "import numpy as np\n",
    "\n",
    "# Add the 'oracle' directory to the Python path\n",
    "sys.path.append(os.path.join(os.getcwd(), 'oracle'))\n",
    "import oracle as oracle "
   ]
  },
  {
   "cell_type": "code",
   "execution_count": 141,
   "metadata": {},
   "outputs": [
    {
     "name": "stdout",
     "output_type": "stream",
     "text": [
      "('gini', 'best', 7)\n"
     ]
    }
   ],
   "source": [
    "res = oracle.q3_hyper(23607)\n",
    "print(res)"
   ]
  },
  {
   "cell_type": "markdown",
   "metadata": {},
   "source": [
    "Csv headers are: <br>\n",
    "age,sex,cp,trestbps,chol,fbs,restecg,thalach,exang,oldpeak,slope,ca,thal\n"
   ]
  },
  {
   "cell_type": "code",
   "execution_count": 142,
   "metadata": {},
   "outputs": [
    {
     "name": "stdout",
     "output_type": "stream",
     "text": [
      "Defaulting to user installation because normal site-packages is not writeable\n",
      "Requirement already satisfied: scikit-learn in /home/deban9017/.local/lib/python3.12/site-packages (1.6.1)\n",
      "Requirement already satisfied: numpy>=1.19.5 in /usr/local/lib/python3.12/site-packages (from scikit-learn) (2.2.3)\n",
      "Requirement already satisfied: scipy>=1.6.0 in /home/deban9017/.local/lib/python3.12/site-packages (from scikit-learn) (1.15.2)\n",
      "Requirement already satisfied: joblib>=1.2.0 in /home/deban9017/.local/lib/python3.12/site-packages (from scikit-learn) (1.4.2)\n",
      "Requirement already satisfied: threadpoolctl>=3.1.0 in /home/deban9017/.local/lib/python3.12/site-packages (from scikit-learn) (3.5.0)\n",
      "Note: you may need to restart the kernel to use updated packages.\n"
     ]
    }
   ],
   "source": [
    "%pip install scikit-learn\n"
   ]
  },
  {
   "cell_type": "code",
   "execution_count": 143,
   "metadata": {},
   "outputs": [],
   "source": [
    "import pandas as pd\n",
    "import numpy as np\n",
    "\n",
    "# Load the data\n",
    "data = pd.read_csv('processed.cleveland.data')\n",
    "# insert column names\n",
    "data.columns = ['age','sex','cp','trestbps','chol','fbs','restecg','thalach','exang','oldpeak','slope','ca','thal','goal']"
   ]
  },
  {
   "cell_type": "code",
   "execution_count": 144,
   "metadata": {},
   "outputs": [
    {
     "name": "stdout",
     "output_type": "stream",
     "text": [
      "age         0\n",
      "sex         0\n",
      "cp          0\n",
      "trestbps    0\n",
      "chol        0\n",
      "fbs         0\n",
      "restecg     0\n",
      "thalach     0\n",
      "exang       0\n",
      "oldpeak     0\n",
      "slope       0\n",
      "ca          0\n",
      "thal        0\n",
      "goal        0\n",
      "dtype: int64\n"
     ]
    }
   ],
   "source": [
    "from sklearn.impute import SimpleImputer\n",
    "\n",
    "# Clean the data\n",
    "data = data.replace('?', np.nan)\n",
    "\n",
    "# numeric columns\n",
    "# age, trestbps, chol, thalach, oldpeak ; impute with mean\n",
    "fields = ['age', 'trestbps', 'chol', 'thalach', 'oldpeak']\n",
    "imputer = SimpleImputer(strategy='mean')\n",
    "data[fields] = imputer.fit_transform(data[fields])\n",
    "\n",
    "\n",
    "# Catetorical columns\n",
    "# sex, cp, fbs, restecg, exang, slope, ca, thal; impute with mode\n",
    "fields = ['sex', 'cp', 'fbs', 'restecg', 'exang', 'slope', 'ca', 'thal']\n",
    "imputer = SimpleImputer(strategy='most_frequent')\n",
    "data[fields] = imputer.fit_transform(data[fields])\n",
    "\n",
    "# we have to check disease or no-disease, so make the goal column binary\n",
    "data['goal'] = data['goal'].replace([1, 2, 3, 4], 1)    \n",
    "\n",
    "# check if all are filled\n",
    "print(data.isnull().sum())"
   ]
  },
  {
   "cell_type": "code",
   "execution_count": 145,
   "metadata": {},
   "outputs": [],
   "source": [
    "from sklearn.model_selection import train_test_split\n",
    "\n",
    "# split the data\n",
    "X = data.drop('goal', axis=1)\n",
    "y = data['goal']\n",
    "X_train, X_test, y_train, y_test = train_test_split(X, y, test_size=0.2, random_state=69)"
   ]
  },
  {
   "cell_type": "code",
   "execution_count": 146,
   "metadata": {},
   "outputs": [
    {
     "name": "stdout",
     "output_type": "stream",
     "text": [
      "╭──────────────────╮\n",
      "│ Accuracy: 0.8197 │\n",
      "╰──────────────────╯\n",
      "              precision    recall  f1-score   support\n",
      "\n",
      "           0       0.91      0.79      0.85        38\n",
      "           1       0.71      0.87      0.78        23\n",
      "\n",
      "    accuracy                           0.82        61\n",
      "   macro avg       0.81      0.83      0.81        61\n",
      "weighted avg       0.84      0.82      0.82        61\n",
      "\n"
     ]
    }
   ],
   "source": [
    "from sklearn.tree import DecisionTreeClassifier\n",
    "from sklearn.metrics import accuracy_score,classification_report\n",
    "from tabulate import tabulate\n",
    "\n",
    "clf = DecisionTreeClassifier(random_state=69, criterion=res[0], splitter=res[1], max_depth=res[2])\n",
    "clf.fit(X_train, y_train)\n",
    "y_pred = clf.predict(X_test)\n",
    "\n",
    "# precision, accuracy, recall, and F1 score\n",
    "accuracy = accuracy_score(y_test, y_pred)\n",
    "print(tabulate([[f'Accuracy: {accuracy:.4f}']], tablefmt=\"rounded_grid\"))\n",
    "report = classification_report(y_test, y_pred)\n",
    "report_table = [row.split() for row in report.split('\\n') if row]\n",
    "print(report)\n",
    "\n",
    "\n",
    "\n"
   ]
  },
  {
   "cell_type": "code",
   "execution_count": 168,
   "metadata": {},
   "outputs": [
    {
     "name": "stderr",
     "output_type": "stream",
     "text": [
      "/home/deban9017/.local/lib/python3.12/site-packages/sklearn/utils/validation.py:2739: UserWarning: X does not have valid feature names, but DecisionTreeClassifier was fitted with feature names\n",
      "Ignoring fixed x limits to fulfill fixed data aspect with adjustable data limits.\n",
      "Ignoring fixed x limits to fulfill fixed data aspect with adjustable data limits.\n",
      "Ignoring fixed x limits to fulfill fixed data aspect with adjustable data limits.\n",
      "Ignoring fixed x limits to fulfill fixed data aspect with adjustable data limits.\n",
      "Ignoring fixed x limits to fulfill fixed data aspect with adjustable data limits.\n",
      "Ignoring fixed x limits to fulfill fixed data aspect with adjustable data limits.\n",
      "Ignoring fixed x limits to fulfill fixed data aspect with adjustable data limits.\n",
      "Ignoring fixed x limits to fulfill fixed data aspect with adjustable data limits.\n",
      "Ignoring fixed x limits to fulfill fixed data aspect with adjustable data limits.\n",
      "Ignoring fixed x limits to fulfill fixed data aspect with adjustable data limits.\n",
      "Ignoring fixed x limits to fulfill fixed data aspect with adjustable data limits.\n",
      "Ignoring fixed x limits to fulfill fixed data aspect with adjustable data limits.\n",
      "Ignoring fixed x limits to fulfill fixed data aspect with adjustable data limits.\n",
      "Ignoring fixed x limits to fulfill fixed data aspect with adjustable data limits.\n",
      "Ignoring fixed x limits to fulfill fixed data aspect with adjustable data limits.\n",
      "Ignoring fixed x limits to fulfill fixed data aspect with adjustable data limits.\n",
      "Ignoring fixed x limits to fulfill fixed data aspect with adjustable data limits.\n",
      "Ignoring fixed x limits to fulfill fixed data aspect with adjustable data limits.\n",
      "Ignoring fixed x limits to fulfill fixed data aspect with adjustable data limits.\n",
      "Ignoring fixed x limits to fulfill fixed data aspect with adjustable data limits.\n",
      "Ignoring fixed x limits to fulfill fixed data aspect with adjustable data limits.\n",
      "Ignoring fixed x limits to fulfill fixed data aspect with adjustable data limits.\n",
      "Ignoring fixed x limits to fulfill fixed data aspect with adjustable data limits.\n",
      "Ignoring fixed x limits to fulfill fixed data aspect with adjustable data limits.\n",
      "Ignoring fixed x limits to fulfill fixed data aspect with adjustable data limits.\n",
      "Ignoring fixed x limits to fulfill fixed data aspect with adjustable data limits.\n",
      "Ignoring fixed x limits to fulfill fixed data aspect with adjustable data limits.\n",
      "Ignoring fixed x limits to fulfill fixed data aspect with adjustable data limits.\n",
      "Ignoring fixed x limits to fulfill fixed data aspect with adjustable data limits.\n",
      "Ignoring fixed x limits to fulfill fixed data aspect with adjustable data limits.\n",
      "Ignoring fixed x limits to fulfill fixed data aspect with adjustable data limits.\n",
      "Ignoring fixed x limits to fulfill fixed data aspect with adjustable data limits.\n",
      "Ignoring fixed x limits to fulfill fixed data aspect with adjustable data limits.\n",
      "Ignoring fixed x limits to fulfill fixed data aspect with adjustable data limits.\n",
      "Ignoring fixed x limits to fulfill fixed data aspect with adjustable data limits.\n"
     ]
    },
    {
     "name": "stderr",
     "output_type": "stream",
     "text": [
      "2025/03/04 14:59:50.179946 cmd_run.go:1285: WARNING: cannot start document portal: dial unix /run/user/1000/bus: connect: no such file or directory\n",
      "[44807, Main Thread] WARNING: Settings portal not found: Could not connect: No such file or directory: 'glib warning', file /build/firefox/parts/firefox/build/toolkit/xre/nsSigHandlers.cpp:201\n",
      "\n",
      "(firefox_firefox:44807): Gdk-WARNING **: 14:59:50.277: Settings portal not found: Could not connect: No such file or directory\n",
      "[Parent 44807, Main Thread] WARNING: Failed to mkdir /home/deban9017/snap/firefox/5783/.config/ibus/bus: Not a directory: 'glib warning', file /build/firefox/parts/firefox/build/toolkit/xre/nsSigHandlers.cpp:201\n",
      "\n",
      "(firefox_firefox:44807): IBUS-WARNING **: 14:59:50.490: Failed to mkdir /home/deban9017/snap/firefox/5783/.config/ibus/bus: Not a directory\n",
      "[Parent 44807, Main Thread] WARNING: Failed to create proxy: Could not connect: No such file or directory\n",
      ": 'glib warning', file /build/firefox/parts/firefox/build/toolkit/xre/nsSigHandlers.cpp:201\n",
      "\n",
      "** (firefox_firefox:44807): WARNING **: 14:59:50.574: Failed to create proxy: Could not connect: No such file or directory\n",
      "\n",
      "[Parent 44807, Main Thread] WARNING: Failed to create proxy: Could not connect: No such file or directory\n",
      ": 'glib warning', file /build/firefox/parts/firefox/build/toolkit/xre/nsSigHandlers.cpp:201\n",
      "\n",
      "** (firefox_firefox:44807): WARNING **: 14:59:50.576: Failed to create proxy: Could not connect: No such file or directory\n",
      "\n",
      "[Parent 44807, Main Thread] WARNING: Failed to create DBus proxy for org.a11y.Bus: Could not connect: No such file or directory\n",
      ": 'glib warning', file /build/firefox/parts/firefox/build/toolkit/xre/nsSigHandlers.cpp:201\n",
      "\n",
      "** (firefox_firefox:44807): WARNING **: 14:59:50.602: Failed to create DBus proxy for org.a11y.Bus: Could not connect: No such file or directory\n",
      "\n"
     ]
    }
   ],
   "source": [
    "# Visualization of decision tree\n",
    "\n",
    "import dtreeviz\n",
    "import matplotlib.pyplot as plt\n",
    "\n",
    "# Convert 'ca' and 'thal' to numeric\n",
    "X_train['ca'] = pd.to_numeric(X_train['ca'], errors='coerce')\n",
    "X_train['thal'] = pd.to_numeric(X_train['thal'], errors='coerce')\n",
    "\n",
    "\n",
    "# Visualize the Decision Tree\n",
    "\n",
    "viz = dtreeviz.model(\n",
    "    clf,\n",
    "    X_train,\n",
    "    y_train,\n",
    "    target_name=\"Heart Disease\",\n",
    "    feature_names=X_train.columns.tolist(),\n",
    "    class_names=[\"No Disease\", \"Disease\"],\n",
    ")\n",
    "\n",
    "v = viz.view()\n",
    "v.show()  \n",
    "\n",
    "# Save the visualization to a specific location\n",
    "v.save(\"decision_tree.svg\")"
   ]
  },
  {
   "cell_type": "code",
   "execution_count": 161,
   "metadata": {},
   "outputs": [
    {
     "name": "stdout",
     "output_type": "stream",
     "text": [
      "age: [<class 'float'>]\n",
      "sex: [<class 'float'>]\n",
      "cp: [<class 'float'>]\n",
      "trestbps: [<class 'float'>]\n",
      "chol: [<class 'float'>]\n",
      "fbs: [<class 'float'>]\n",
      "restecg: [<class 'float'>]\n",
      "thalach: [<class 'float'>]\n",
      "exang: [<class 'float'>]\n",
      "oldpeak: [<class 'float'>]\n",
      "slope: [<class 'float'>]\n",
      "ca: [<class 'str'>]\n",
      "thal: [<class 'str'>]\n"
     ]
    }
   ],
   "source": [
    "for col in X_train.columns:\n",
    "    print(f\"{col}: {X_train[col].map(type).unique()}\")\n"
   ]
  }
 ],
 "metadata": {
  "kernelspec": {
   "display_name": "Python 3",
   "language": "python",
   "name": "python3"
  },
  "language_info": {
   "codemirror_mode": {
    "name": "ipython",
    "version": 3
   },
   "file_extension": ".py",
   "mimetype": "text/x-python",
   "name": "python",
   "nbconvert_exporter": "python",
   "pygments_lexer": "ipython3",
   "version": "3.undefined.undefined"
  }
 },
 "nbformat": 4,
 "nbformat_minor": 2
}
