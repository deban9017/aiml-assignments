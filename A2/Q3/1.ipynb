{
 "cells": [
  {
   "cell_type": "code",
   "execution_count": 1,
   "metadata": {},
   "outputs": [],
   "source": [
    "import pickle\n",
    "import numpy as np\n",
    "\n",
    "data1 = pickle.load(open('data1.pkl', 'rb'))\n",
    "data2 = pickle.load(open('data2.pkl', 'rb'))\n"
   ]
  },
  {
   "cell_type": "code",
   "execution_count": 2,
   "metadata": {},
   "outputs": [],
   "source": [
    "X1_train = np.array(data1[0])\n",
    "y1_train = np.array(data1[1])\n",
    "X1_test = np.array(data1[2])\n",
    "y1_test = np.array(data1[3])\n",
    "\n",
    "X2_train = np.array(data2[0])\n",
    "y2_train = np.array(data2[1])\n",
    "X2_test = np.array(data2[2])\n",
    "y2_test = np.array(data2[3])"
   ]
  },
  {
   "cell_type": "code",
   "execution_count": 3,
   "metadata": {},
   "outputs": [],
   "source": [
    "# each column of X is a sample and last row is 1\n",
    "X1_train = X1_train.T\n",
    "X1_test = X1_test.T\n",
    "X2_train = X2_train.T\n",
    "X2_test = X2_test.T\n",
    "X1_train = np.vstack((X1_train, np.ones(X1_train.shape[1])))\n",
    "X1_test = np.vstack((X1_test, np.ones(X1_test.shape[1])))\n",
    "X2_train = np.vstack((X2_train, np.ones(X2_train.shape[1])))\n",
    "X2_test = np.vstack((X2_test, np.ones(X2_test.shape[1])))\n"
   ]
  },
  {
   "cell_type": "code",
   "execution_count": 4,
   "metadata": {},
   "outputs": [],
   "source": [
    "def linear_regression(X, y):\n",
    "    xxt = np.dot(X, X.T)\n",
    "    # if inverse exists\n",
    "    if np.linalg.matrix_rank(xxt) == xxt.shape[0]:\n",
    "        xxt_inv = np.linalg.inv(xxt)\n",
    "        print('inverse exists')\n",
    "    else:\n",
    "        xxt_inv = np.linalg.pinv(xxt)\n",
    "        print('inverse does not exist')\n",
    "\n",
    "    w = np.dot(xxt_inv, np.dot(X, y))\n",
    "    return w\n"
   ]
  },
  {
   "cell_type": "code",
   "execution_count": 5,
   "metadata": {},
   "outputs": [],
   "source": [
    "def ridge_regression(X, y, alpha):\n",
    "    xxt = np.dot(X, X.T)\n",
    "    xy = np.dot(X, y)\n",
    "    I = np.eye(xxt.shape[0])\n",
    "    w = np.dot(np.linalg.inv(xxt + alpha * I), xy)\n",
    "    return w"
   ]
  },
  {
   "cell_type": "markdown",
   "metadata": {},
   "source": [
    "### Lin reg"
   ]
  },
  {
   "cell_type": "code",
   "execution_count": 6,
   "metadata": {},
   "outputs": [
    {
     "name": "stdout",
     "output_type": "stream",
     "text": [
      "inverse exists\n",
      "inverse does not exist\n",
      "\n",
      "OLS\n",
      "mse1 (D1): 2.7685343512966045\n",
      "mse2 (D2): 53.852755961317115\n",
      "w1 OLS: [[0.35655766 0.32183454 0.00351676 0.8842572  0.16073379 0.07412291]]\n"
     ]
    }
   ],
   "source": [
    "w1 = linear_regression(X1_train, y1_train)\n",
    "w2 = linear_regression(X2_train, y2_train)\n",
    "# calculate the mean squared error on the test set\n",
    "mse1 = np.mean((np.dot(w1.T, X1_test) - y1_test) ** 2)\n",
    "mse2 = np.mean((np.dot(w2.T, X2_test) - y2_test) ** 2)\n",
    "\n",
    "print(\"\\nOLS\")\n",
    "print('mse1 (D1):', mse1)\n",
    "print('mse2 (D2):', mse2)\n",
    "\n",
    "print('w1 OLS:', w1.T)\n",
    "# print('w2 OLS:', w2.T)\n",
    "np.savetxt(\"w_ols_23607.csv\", w2.T, delimiter = \",\")\n"
   ]
  },
  {
   "cell_type": "markdown",
   "metadata": {},
   "source": [
    "### Ridge reg\n"
   ]
  },
  {
   "cell_type": "code",
   "execution_count": 14,
   "metadata": {},
   "outputs": [
    {
     "name": "stdout",
     "output_type": "stream",
     "text": [
      "RIDGE REGRESSION\n",
      "mse1 (D1): 1.6587716233420446\n",
      "mse2 (D2): 43.93170321794892\n",
      "w1 Ridge: [[ 0.10344289  0.04432345 -0.02761292  0.13022108  0.0014239   0.00560629]]\n"
     ]
    }
   ],
   "source": [
    "alpha = 100\n",
    "w1 = ridge_regression(X1_train, y1_train, alpha)\n",
    "w2 = ridge_regression(X2_train, y2_train, alpha)\n",
    "# calculate the mean squared error on the test set\n",
    "mse1 = np.mean((np.dot(w1.T, X1_test) - y1_test) ** 2)\n",
    "mse2 = np.mean((np.dot(w2.T, X2_test) - y2_test) ** 2)\n",
    "\n",
    "print(\"RIDGE REGRESSION\")\n",
    "print('mse1 (D1):', mse1)\n",
    "print('mse2 (D2):', mse2)\n",
    "\n",
    "print('w1 Ridge:', w1.T)\n",
    "# print('w2 Ridge:', w2.T)\n",
    "np.savetxt(\"w_rr_23607.csv\", w2.T, delimiter = \",\")\n"
   ]
  },
  {
   "cell_type": "code",
   "execution_count": 66,
   "metadata": {},
   "outputs": [
    {
     "data": {
      "image/png": "[encoded data removed]",
      "text/plain": [
       "<Figure size 640x480 with 1 Axes>"
      ]
     },
     "metadata": {},
     "output_type": "display_data"
    }
   ],
   "source": [
    "alphas = [0.001, 0.01, 0.1, 1, 10, 100, 1000, 10000, 100000, 1000000]\n",
    "mse1_list = []\n",
    "mse2_list = []\n",
    "\n",
    "for alpha in alphas:\n",
    "    w1 = ridge_regression(X1_train, y1_train, alpha)\n",
    "    w2 = ridge_regression(X2_train, y2_train, alpha)\n",
    "    # calculate the mean squared error on the test set\n",
    "    mse1 = np.mean((np.dot(w1.T, X1_test) - y1_test) ** 2)\n",
    "    mse2 = np.mean((np.dot(w2.T, X2_test) - y2_test) ** 2)\n",
    "\n",
    "    # print('mse1:', mse1)\n",
    "    # print('mse2:', mse2)\n",
    "    mse1_list.append(mse1)\n",
    "    mse2_list.append(mse2)\n",
    "\n",
    "import matplotlib.pyplot as plt\n",
    "# plt.plot(alphas, mse1_list, label='data1')\n",
    "plt.plot(alphas, mse2_list, label='data2')\n",
    "plt.xscale('log')\n",
    "plt.xlabel('alpha')\n",
    "plt.ylabel('mean squared error')\n",
    "plt.legend()\n",
    "plt.show()"
   ]
  }
 ],
 "metadata": {
  "kernelspec": {
   "display_name": "Python 3",
   "language": "python",
   "name": "python3"
  },
  "language_info": {
   "codemirror_mode": {
    "name": "ipython",
    "version": 3
   },
   "file_extension": ".py",
   "mimetype": "text/x-python",
   "name": "python",
   "nbconvert_exporter": "python",
   "pygments_lexer": "ipython3",
   "version": "3.12.8"
  }
 },
 "nbformat": 4,
 "nbformat_minor": 2
}
